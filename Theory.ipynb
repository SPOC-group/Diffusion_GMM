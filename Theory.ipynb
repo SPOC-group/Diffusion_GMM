{
 "cells": [
  {
   "cell_type": "code",
   "execution_count": 6,
   "id": "referenced-sponsorship",
   "metadata": {},
   "outputs": [],
   "source": [
    "import numpy as np\n",
    "import matplotlib.pyplot as plt"
   ]
  },
  {
   "cell_type": "code",
   "execution_count": 7,
   "id": "clean-artist",
   "metadata": {},
   "outputs": [],
   "source": [
    "#Schedule functions\n",
    "\n",
    "def α(t):\n",
    "    return t\n",
    "\n",
    "def β(t):\n",
    "    return 1-t"
   ]
  },
  {
   "cell_type": "code",
   "execution_count": 19,
   "id": "marine-material",
   "metadata": {},
   "outputs": [],
   "source": [
    "#Components of result 2.1\n",
    "def get_teacher_components(t,σ,n,λ):\n",
    "    deno=β(t)**2*(λ+n-1)+α(t)**2*(λ*(1+σ**2)+(n-1)*σ**2)\n",
    "    c=α(t)*(λ*(1+σ**2)+(n-1)*σ**2)/deno\n",
    "    m=β(t)**2*n*(λ+n-1)/(λ+n)/deno\n",
    "    qxi=β(t)*c/(λ+n)\n",
    "    qeta=β(t)**2*(λ+n-1)/(λ+n)/deno\n",
    "    \n",
    "    return c,m,qxi,qeta\n",
    "\n",
    "#Shorthands for combinations of the schedule functions and their derivative\n",
    "def get_prefactors(t,σ,n,λ):\n",
    "    c,_,_,_=get_teacher_components(t,σ,n,λ)\n",
    "    \n",
    "    γ=(1+α(t)/β(t))*c-1/β(t)\n",
    "    ζ=(α(t)/β(t)+1)\n",
    "    return γ, ζ\n",
    "\n"
   ]
  },
  {
   "cell_type": "code",
   "execution_count": 20,
   "id": "upper-species",
   "metadata": {},
   "outputs": [],
   "source": [
    "\n",
    "#ODE iterator\n",
    "def summary_stats(σ,n,λ,Nsteps=100,return_t1_only=False):\n",
    "    dt=1/Nsteps\n",
    "    t=0\n",
    "    theo={\"R\":[0],\"Qxi\":[0],\"Qeta\":[0],\"t\":[0],\"Q\":[1],\"perp\":[1]}\n",
    "    t=dt\n",
    "    \n",
    "    R=0\n",
    "    Qxi=0\n",
    "    Qeta=0\n",
    "    \n",
    "    integral=1\n",
    "    \n",
    "    for i in range(Nsteps-1):\n",
    "        c,m,qxi,qeta=get_teacher_components(t,σ,n,λ)\n",
    "        γ,ζ=get_prefactors(t,σ,n,λ)\n",
    "        \n",
    "        integral*=(1+dt*γ)\n",
    "        \n",
    "        R+=dt*(γ*R+ζ*m)\n",
    "        Qxi+=dt*(γ*Qxi+ζ*qxi)\n",
    "        Qeta+=dt*(γ*Qeta+ζ*qeta)\n",
    "        \n",
    "        \n",
    "        Q=R**2+Qxi**2*n+Qeta**2*n*σ**2#+integral**2\n",
    "        perp=integral**2\n",
    "        \n",
    "        theo[\"R\"].append(R)\n",
    "        theo[\"Qxi\"].append(Qxi)\n",
    "        theo[\"Qeta\"].append(Qeta/σ)\n",
    "        theo[\"t\"].append(t)\n",
    "        theo[\"Q\"].append(Q+perp)\n",
    "        theo[\"perp\"].append(perp)\n",
    "        \n",
    "        \n",
    "        t+=dt\n",
    "      \n",
    "    if return_t1_only:\n",
    "        return R,Qxi,Qeta,Q,perp\n",
    "    return theo\n",
    "    \n"
   ]
  },
  {
   "cell_type": "code",
   "execution_count": 21,
   "id": "developmental-madrid",
   "metadata": {},
   "outputs": [],
   "source": [
    "stats=summary_stats(σ=1.5,n=8,λ=0.1,Nsteps=100)"
   ]
  },
  {
   "cell_type": "code",
   "execution_count": 22,
   "id": "legal-plaintiff",
   "metadata": {},
   "outputs": [
    {
     "data": {
      "text/plain": [
       "<matplotlib.legend.Legend at 0x260dd775400>"
      ]
     },
     "execution_count": 22,
     "metadata": {},
     "output_type": "execute_result"
    },
    {
     "data": {
      "image/png": "[encoded data removed]",
      "text/plain": [
       "<Figure size 432x288 with 1 Axes>"
      ]
     },
     "metadata": {
      "needs_background": "light"
     },
     "output_type": "display_data"
    }
   ],
   "source": [
    "plt.plot(stats[\"t\"],stats[\"R\"],c=\"r\",alpha=0.5,label=\"R\")\n",
    "plt.plot(stats[\"t\"],np.abs(stats[\"Qxi\"]),c=\"b\",alpha=0.5,label=r\"$Q_\\xi$\")\n",
    "plt.plot(stats[\"t\"],np.array(stats[\"Qeta\"]),c=\"g\",alpha=0.5,label=r\"$Q_\\eta$\")\n",
    "plt.plot(stats[\"t\"],np.array(stats[\"Q\"]),c=\"black\",alpha=0.5,label=r\"$Q$\")\n",
    "plt.plot(stats[\"t\"],np.array(stats[\"R\"])/np.sqrt(stats[\"Q\"]),c=\"orchid\", label=r\"$\\theta$\")\n",
    "\n",
    "plt.xlabel(\"t\")\n",
    "\n",
    "plt.legend()\n"
   ]
  },
  {
   "cell_type": "code",
   "execution_count": null,
   "id": "anticipated-vision",
   "metadata": {},
   "outputs": [],
   "source": []
  },
  {
   "cell_type": "code",
   "execution_count": null,
   "id": "featured-mayor",
   "metadata": {},
   "outputs": [],
   "source": []
  }
 ],
 "metadata": {
  "kernelspec": {
   "display_name": "Python 3",
   "language": "python",
   "name": "python3"
  },
  "language_info": {
   "codemirror_mode": {
    "name": "ipython",
    "version": 3
   },
   "file_extension": ".py",
   "mimetype": "text/x-python",
   "name": "python",
   "nbconvert_exporter": "python",
   "pygments_lexer": "ipython3",
   "version": "3.8.8"
  }
 },
 "nbformat": 4,
 "nbformat_minor": 5
}
